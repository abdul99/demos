{
 "metadata": {
  "name": ""
 },
 "nbformat": 3,
 "nbformat_minor": 0,
 "worksheets": [
  {
   "cells": [
    {
     "cell_type": "markdown",
     "metadata": {},
     "source": [
      "# Querying\n",
      "\n",
      "In the previous lesson we saw how to do simple `find` and `findOne`\n",
      "queries. Now we will show how to query for specific documents and\n",
      "use some of MongoDB's advanced query operators.\n",
      "\n",
      "Queries use a document-style (or query by example) syntax. This query\n",
      "says \"find me all the documents that have a score of 90\"."
     ]
    },
    {
     "cell_type": "code",
     "collapsed": false,
     "input": [
      "import pymongo\n",
      "db = pymongo.MongoClient().training\n",
      "for doc in db.scores.find({\"score\": 90}).limit(10): print(doc)"
     ],
     "language": "python",
     "metadata": {},
     "outputs": [
      {
       "output_type": "stream",
       "stream": "stdout",
       "text": [
        "{u'score': 90, u'_id': ObjectId('4c90f2543d937c033f424707'), u'name': u'quiz', u'student': 2}\n",
        "{u'score': 90, u'_id': ObjectId('4c90f2543d937c033f42472d'), u'name': u'exam', u'student': 14}\n",
        "{u'score': 90, u'_id': ObjectId('4c90f2543d937c033f4247fb'), u'name': u'essay', u'student': 83}\n",
        "{u'score': 90, u'_id': ObjectId('4c90f2543d937c033f424800'), u'name': u'quiz', u'student': 85}\n",
        "{u'score': 90, u'_id': ObjectId('4c90f2543d937c033f42480a'), u'name': u'essay', u'student': 88}\n",
        "{u'score': 90, u'_id': ObjectId('4c90f2543d937c033f42486c'), u'name': u'quiz', u'student': 121}\n",
        "{u'score': 90, u'_id': ObjectId('4c90f2543d937c033f4248a0'), u'name': u'essay', u'student': 138}\n",
        "{u'score': 90, u'_id': ObjectId('4c90f2543d937c033f424910'), u'name': u'exam', u'student': 175}\n",
        "{u'score': 90, u'_id': ObjectId('4c90f2543d937c033f424919'), u'name': u'exam', u'student': 178}\n",
        "{u'score': 90, u'_id': ObjectId('4c90f2543d937c033f424929'), u'name': u'quiz', u'student': 184}\n"
       ]
      }
     ],
     "prompt_number": 1
    },
    {
     "cell_type": "markdown",
     "metadata": {},
     "source": [
      "This time we will do the same query but add the count() method to only get\n",
      "the count of documents that match the query. We will use count() thoughout\n",
      "this lesson."
     ]
    },
    {
     "cell_type": "code",
     "collapsed": false,
     "input": [
      "db.scores.find({\"score\": 90}).count()"
     ],
     "language": "python",
     "metadata": {},
     "outputs": [
      {
       "metadata": {},
       "output_type": "pyout",
       "prompt_number": 2,
       "text": [
        "64"
       ]
      }
     ],
     "prompt_number": 2
    },
    {
     "cell_type": "markdown",
     "metadata": {},
     "source": [
      "Queries can also use special query operators. These operators include\n",
      "`$gt`, `$gte`, `$lt`, `$lte`, `$ne`, `$nin`, `$regex`, `$exists`, `$not`,\n",
      "`$or`, and many more. The following queries demonstate the use of some\n",
      "of these operators."
     ]
    },
    {
     "cell_type": "code",
     "collapsed": false,
     "input": [
      "db.scores.find({\"score\": {\"$gt\": 90}}).count()"
     ],
     "language": "python",
     "metadata": {},
     "outputs": [
      {
       "metadata": {},
       "output_type": "pyout",
       "prompt_number": 3,
       "text": [
        "562"
       ]
      }
     ],
     "prompt_number": 3
    },
    {
     "cell_type": "code",
     "collapsed": false,
     "input": [
      "db.scores.find_one({\"score\": {\"$lte\": 60}})"
     ],
     "language": "python",
     "metadata": {},
     "outputs": [
      {
       "metadata": {},
       "output_type": "pyout",
       "prompt_number": 4,
       "text": [
        "{u'_id': ObjectId('4c90f2543d937c033f424701'),\n",
        " u'name': u'quiz',\n",
        " u'score': 50,\n",
        " u'student': 0}"
       ]
      }
     ],
     "prompt_number": 4
    },
    {
     "cell_type": "code",
     "collapsed": false,
     "input": [
      "db.scores.find({\"name\": {\"$in\": [\"quiz\", \"exam\"]}}).count()"
     ],
     "language": "python",
     "metadata": {},
     "outputs": [
      {
       "metadata": {},
       "output_type": "pyout",
       "prompt_number": 5,
       "text": [
        "2000"
       ]
      }
     ],
     "prompt_number": 5
    },
    {
     "cell_type": "code",
     "collapsed": false,
     "input": [
      "db.scores.find_one({\"name\": {\"$nin\": [\"quiz\", \"exam\"]}})"
     ],
     "language": "python",
     "metadata": {},
     "outputs": [
      {
       "metadata": {},
       "output_type": "pyout",
       "prompt_number": 6,
       "text": [
        "{u'_id': ObjectId('4c90f2543d937c033f424702'),\n",
        " u'name': u'essay',\n",
        " u'score': 98,\n",
        " u'student': 0}"
       ]
      }
     ],
     "prompt_number": 6
    },
    {
     "cell_type": "code",
     "collapsed": false,
     "input": [
      "import re\n",
      "rgx = re.compile(\"^qu\")\n",
      "db.scores.find_one({\"name\": rgx})"
     ],
     "language": "python",
     "metadata": {},
     "outputs": [
      {
       "metadata": {},
       "output_type": "pyout",
       "prompt_number": 7,
       "text": [
        "{u'_id': ObjectId('4c90f2543d937c033f424701'),\n",
        " u'name': u'quiz',\n",
        " u'score': 50,\n",
        " u'student': 0}"
       ]
      }
     ],
     "prompt_number": 7
    },
    {
     "cell_type": "markdown",
     "metadata": {},
     "source": [
      "You can sort the query results on the server side using the sort\n",
      "method. Here's an example of using a descending sort to get the\n",
      "highest score in our example collection."
     ]
    },
    {
     "cell_type": "code",
     "collapsed": false,
     "input": [
      "db.scores.find().sort([(\"score\", -1)]).next()"
     ],
     "language": "python",
     "metadata": {},
     "outputs": [
      {
       "metadata": {},
       "output_type": "pyout",
       "prompt_number": 8,
       "text": [
        "{u'_id': ObjectId('4c90f2543d937c033f4252a8'),\n",
        " u'name': u'essay',\n",
        " u'score': 99,\n",
        " u'student': 994}"
       ]
      }
     ],
     "prompt_number": 8
    },
    {
     "cell_type": "markdown",
     "metadata": {},
     "source": [
      "If we only want the server to return the fist two documents that match the query we can add a limit()."
     ]
    },
    {
     "cell_type": "code",
     "collapsed": false,
     "input": [
      "cursor = db.scores.find().sort([(\"score\", -1)]).limit(2)\n",
      "for doc in cursor: print(doc)"
     ],
     "language": "python",
     "metadata": {},
     "outputs": [
      {
       "output_type": "stream",
       "stream": "stdout",
       "text": [
        "{u'score': 99, u'_id': ObjectId('4c90f2543d937c033f4252a8'), u'name': u'essay', u'student': 994}\n",
        "{u'score': 99, u'_id': ObjectId('4c90f2543d937c033f42529e'), u'name': u'quiz', u'student': 991}\n"
       ]
      }
     ],
     "prompt_number": 9
    },
    {
     "cell_type": "markdown",
     "metadata": {},
     "source": [
      "We can also have the server skip a number of documents. Notice that methods of\n",
      "the cursor object can be chained together."
     ]
    },
    {
     "cell_type": "code",
     "collapsed": false,
     "input": [
      "cursor = db.scores.find().sort([(\"score\", -1)]).limit(2).skip(450)\n",
      "for doc in cursor: print(doc)"
     ],
     "language": "python",
     "metadata": {},
     "outputs": [
      {
       "output_type": "stream",
       "stream": "stdout",
       "text": [
        "{u'score': 92, u'_id': ObjectId('4c90f2543d937c033f424c0f'), u'name': u'essay', u'student': 431}\n",
        "{u'score': 92, u'_id': ObjectId('4c90f2543d937c033f424c0e'), u'name': u'quiz', u'student': 431}\n"
       ]
      }
     ],
     "prompt_number": 10
    },
    {
     "cell_type": "markdown",
     "metadata": {},
     "source": [
      "We can also tell the server to only return certain fields from the matching documents."
     ]
    },
    {
     "cell_type": "code",
     "collapsed": false,
     "input": [
      "db.scores.find_one({\"score\": {\"$gte\": 65}}, {\"score\": 1, \"_id\": 0})"
     ],
     "language": "python",
     "metadata": {},
     "outputs": [
      {
       "metadata": {},
       "output_type": "pyout",
       "prompt_number": 11,
       "text": [
        "{u'score': 65}"
       ]
      }
     ],
     "prompt_number": 11
    },
    {
     "cell_type": "markdown",
     "metadata": {},
     "source": [
      "You can also use distinct() to find all distinct values of a field (with an optional query)."
     ]
    },
    {
     "cell_type": "code",
     "collapsed": false,
     "input": [
      "db.scores.distinct(\"name\")"
     ],
     "language": "python",
     "metadata": {},
     "outputs": [
      {
       "metadata": {},
       "output_type": "pyout",
       "prompt_number": 12,
       "text": [
        "[u'quiz', u'exam', u'essay']"
       ]
      }
     ],
     "prompt_number": 12
    },
    {
     "cell_type": "code",
     "collapsed": false,
     "input": [
      "db.scores.find({\"score\": {\"$lte\": 60}}).distinct(\"score\")"
     ],
     "language": "python",
     "metadata": {},
     "outputs": [
      {
       "metadata": {},
       "output_type": "pyout",
       "prompt_number": 13,
       "text": [
        "[50, 51, 52, 53, 54, 55, 56, 57, 58, 59, 60]"
       ]
      }
     ],
     "prompt_number": 13
    },
    {
     "cell_type": "markdown",
     "metadata": {},
     "source": [
      "See: http://docs.mongodb.org/manual/reference/operators/"
     ]
    },
    {
     "cell_type": "markdown",
     "metadata": {},
     "source": [
      "# Exercises\n",
      "\n",
      "1. In the training.scores collection, find all scores less than 65.\n",
      "1. Output only the `name` field\n",
      "1. Find the highest score. \n",
      "1. Find the lowest score."
     ]
    }
   ],
   "metadata": {}
  }
 ]
}