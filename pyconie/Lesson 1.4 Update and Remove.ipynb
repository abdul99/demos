{
 "metadata": {
  "name": ""
 },
 "nbformat": 3,
 "nbformat_minor": 0,
 "worksheets": [
  {
   "cells": [
    {
     "cell_type": "markdown",
     "metadata": {},
     "source": [
      "# Updates\n",
      "\n",
      "With MongoDB you can update documents in a number of different ways. We'll start this lesson by inserting a simple example document."
     ]
    },
    {
     "cell_type": "code",
     "collapsed": false,
     "input": [
      "import pymongo\n",
      "conn = pymongo.MongoClient()\n",
      "conn.drop_database('test')\n",
      "db = conn.test\n",
      "db.things.insert({\"_id\": 123, \"foo\": \"bar\"})\n",
      "db.things.find_one({\"_id\": 123})              "
     ],
     "language": "python",
     "metadata": {},
     "outputs": [
      {
       "metadata": {},
       "output_type": "pyout",
       "prompt_number": 1,
       "text": [
        "{u'_id': 123, u'foo': u'bar'}"
       ]
      }
     ],
     "prompt_number": 1
    },
    {
     "cell_type": "markdown",
     "metadata": {},
     "source": [
      "Now we can use the update method to modify the document. This operation\n",
      "finds the document we just inserted by `_id` and replaces it with a new\n",
      "document."
     ]
    },
    {
     "cell_type": "code",
     "collapsed": false,
     "input": [
      "db.things.update({\"_id\": 123}, {\"hello\": \"world\"})\n",
      "db.things.find_one({\"_id\": 123})"
     ],
     "language": "python",
     "metadata": {},
     "outputs": [
      {
       "metadata": {},
       "output_type": "pyout",
       "prompt_number": 2,
       "text": [
        "{u'_id': 123, u'hello': u'world'}"
       ]
      }
     ],
     "prompt_number": 2
    },
    {
     "cell_type": "markdown",
     "metadata": {},
     "source": [
      "If instead we want to modify specific fields of the document we can use\n",
      "MongoDB's update operators. These include `$set`, `$inc`, `$push`, `$pull`\n",
      "and many more.\n",
      "\n",
      "Here's an example using `$set` to change the value of the 'hello' field\n",
      "in the same document."
     ]
    },
    {
     "cell_type": "code",
     "collapsed": false,
     "input": [
      "db.things.update({\"_id\": 123}, {\"$set\": {\"hello\": \"PyCon Ireland\"}})\n",
      "db.things.find_one({\"_id\": 123})"
     ],
     "language": "python",
     "metadata": {},
     "outputs": [
      {
       "metadata": {},
       "output_type": "pyout",
       "prompt_number": 3,
       "text": [
        "{u'_id': 123, u'hello': u'PyCon Ireland'}"
       ]
      }
     ],
     "prompt_number": 3
    },
    {
     "cell_type": "markdown",
     "metadata": {},
     "source": [
      "In the previous examples the server has handled modifying the document for\n",
      "us. We could also retrieve the document using findOne(), modify it client\n",
      "side and save it back again using the save() method."
     ]
    },
    {
     "cell_type": "code",
     "collapsed": false,
     "input": [
      "import datetime\n",
      "doc = db.things.find_one({\"_id\": 123})\n",
      "doc['ts'] = datetime.datetime.now()\n",
      "db.things.save(doc)\n",
      "db.things.find_one({\"_id\": 123})"
     ],
     "language": "python",
     "metadata": {},
     "outputs": [
      {
       "metadata": {},
       "output_type": "pyout",
       "prompt_number": 4,
       "text": [
        "{u'_id': 123,\n",
        " u'hello': u'PyCon Ireland',\n",
        " u'ts': datetime.datetime(2013, 10, 12, 16, 10, 25, 223000)}"
       ]
      }
     ],
     "prompt_number": 4
    },
    {
     "cell_type": "code",
     "collapsed": false,
     "input": [
      "db.things.save({\"name\": \"Ross\"})\n",
      "for doc in db.things.find(): print(doc)"
     ],
     "language": "python",
     "metadata": {},
     "outputs": [
      {
       "output_type": "stream",
       "stream": "stdout",
       "text": [
        "{u'_id': 123, u'hello': u'PyCon Ireland', u'ts': datetime.datetime(2013, 10, 12, 16, 10, 25, 223000)}\n",
        "{u'_id': ObjectId('5259747156c02c08ee0475fc'), u'name': u'Ross'}\n"
       ]
      }
     ],
     "prompt_number": 5
    },
    {
     "cell_type": "markdown",
     "metadata": {},
     "source": [
      "In this next example we use the `$set` operator to add an interests\n",
      "field to a document. The update fails (**n=0**) because no document matched\n",
      "the query for the update."
     ]
    },
    {
     "cell_type": "code",
     "collapsed": false,
     "input": [
      "db.things.update({\"name\": \"Rozza\"}, {\"$set\": {\"interests\": []}})"
     ],
     "language": "python",
     "metadata": {},
     "outputs": [
      {
       "metadata": {},
       "output_type": "pyout",
       "prompt_number": 6,
       "text": [
        "{u'connectionId': 13,\n",
        " u'err': None,\n",
        " u'n': 0,\n",
        " u'ok': 1.0,\n",
        " u'updatedExisting': False}"
       ]
      }
     ],
     "prompt_number": 6
    },
    {
     "cell_type": "markdown",
     "metadata": {},
     "source": [
      "Using the `upsert` option tells MongoDB to insert a new document if a document matching\n",
      "the query does not exist."
     ]
    },
    {
     "cell_type": "code",
     "collapsed": false,
     "input": [
      "db.things.update({\"name\": \"Rozza\"}, \n",
      "                 {\"$set\": {\"interests\": []}}, \n",
      "                 upsert=True)\n",
      "db.things.find_one({\"name\": \"Rozza\"})"
     ],
     "language": "python",
     "metadata": {},
     "outputs": [
      {
       "metadata": {},
       "output_type": "pyout",
       "prompt_number": 7,
       "text": [
        "{u'_id': ObjectId('52597471c60cd22c278eb756'),\n",
        " u'interests': [],\n",
        " u'name': u'Rozza'}"
       ]
      }
     ],
     "prompt_number": 7
    },
    {
     "cell_type": "markdown",
     "metadata": {},
     "source": [
      "Now that we've upserted that new document lets make a few modifications..."
     ]
    },
    {
     "cell_type": "code",
     "collapsed": false,
     "input": [
      "db.things.update({\"name\": \"Rozza\"}, \n",
      "                 {\"$push\": {\"interests\": \"programming\"}})\n",
      "db.things.find_one({\"name\": \"Rozza\"})"
     ],
     "language": "python",
     "metadata": {},
     "outputs": [
      {
       "metadata": {},
       "output_type": "pyout",
       "prompt_number": 8,
       "text": [
        "{u'_id': ObjectId('52597471c60cd22c278eb756'),\n",
        " u'interests': [u'programming'],\n",
        " u'name': u'Rozza'}"
       ]
      }
     ],
     "prompt_number": 8
    },
    {
     "cell_type": "code",
     "collapsed": false,
     "input": [
      "db.things.update({\"name\": \"Rozza\"}, \n",
      "                 {\"$pull\": {\"interests\": \"programming\"}})\n",
      "db.things.find_one({\"name\": \"Rozza\"})"
     ],
     "language": "python",
     "metadata": {},
     "outputs": [
      {
       "metadata": {},
       "output_type": "pyout",
       "prompt_number": 9,
       "text": [
        "{u'_id': ObjectId('52597471c60cd22c278eb756'),\n",
        " u'interests': [],\n",
        " u'name': u'Rozza'}"
       ]
      }
     ],
     "prompt_number": 9
    },
    {
     "cell_type": "code",
     "collapsed": false,
     "input": [
      "db.things.update({}, {\"$set\": {\"city\": \"dublin\"}})\n",
      "for doc in db.things.find(): print(doc)"
     ],
     "language": "python",
     "metadata": {},
     "outputs": [
      {
       "output_type": "stream",
       "stream": "stdout",
       "text": [
        "{u'_id': ObjectId('5259747156c02c08ee0475fc'), u'name': u'Ross'}\n",
        "{u'interests': [], u'_id': ObjectId('52597471c60cd22c278eb756'), u'name': u'Rozza'}\n",
        "{u'city': u'dublin', u'_id': 123, u'hello': u'PyCon Ireland', u'ts': datetime.datetime(2013, 10, 12, 16, 10, 25, 223000)}\n"
       ]
      }
     ],
     "prompt_number": 10
    },
    {
     "cell_type": "markdown",
     "metadata": {},
     "source": [
      "Notice in that last example *only one* document had the 'city' field\n",
      "set. By default MongoDB only modifies the first document that\n",
      "matches the query. If you want to modify all documents that match\n",
      "the query add multi = true.  "
     ]
    },
    {
     "cell_type": "code",
     "collapsed": false,
     "input": [
      "db.things.update({}, {\"$set\": {\"city\": \"Dublin\"}}, upsert=False, multi=True)\n",
      "for doc in db.things.find(): print(doc)"
     ],
     "language": "python",
     "metadata": {},
     "outputs": [
      {
       "output_type": "stream",
       "stream": "stdout",
       "text": [
        "{u'interests': [], u'city': u'Dublin', u'_id': ObjectId('52597471c60cd22c278eb756'), u'name': u'Rozza'}\n",
        "{u'city': u'Dublin', u'_id': 123, u'hello': u'PyCon Ireland', u'ts': datetime.datetime(2013, 10, 12, 16, 10, 25, 223000)}\n",
        "{u'city': u'Dublin', u'_id': ObjectId('5259747156c02c08ee0475fc'), u'name': u'Ross'}\n"
       ]
      }
     ],
     "prompt_number": 11
    },
    {
     "cell_type": "markdown",
     "metadata": {},
     "source": [
      "# Removing data\n",
      "\n",
      "Removing documents, collections, and databases is easy in\n",
      "PyMongo. This first example removes specific documents from\n",
      "the collection. Please note that there is no multi=True\n",
      "option for remove. MongoDB will remove any documents that\n",
      "match the query."
     ]
    },
    {
     "cell_type": "code",
     "collapsed": false,
     "input": [
      "db.things.remove({\"name\": \"Rozza\"})\n",
      "list(db.things.find())"
     ],
     "language": "python",
     "metadata": {},
     "outputs": [
      {
       "metadata": {},
       "output_type": "pyout",
       "prompt_number": 12,
       "text": [
        "[{u'_id': 123,\n",
        "  u'city': u'Dublin',\n",
        "  u'hello': u'PyCon Ireland',\n",
        "  u'ts': datetime.datetime(2013, 10, 12, 16, 10, 25, 223000)},\n",
        " {u'_id': ObjectId('5259747156c02c08ee0475fc'),\n",
        "  u'city': u'Dublin',\n",
        "  u'name': u'Ross'}]"
       ]
      }
     ],
     "prompt_number": 12
    },
    {
     "cell_type": "markdown",
     "metadata": {},
     "source": [
      "If we don't specify what documents to remove MongoDB will remove them all. This just removes\n",
      "the documents. The collection and its indexes still exist."
     ]
    },
    {
     "cell_type": "code",
     "collapsed": false,
     "input": [
      "db.things.remove()\n",
      "db.things.count()"
     ],
     "language": "python",
     "metadata": {},
     "outputs": [
      {
       "metadata": {},
       "output_type": "pyout",
       "prompt_number": 13,
       "text": [
        "0"
       ]
      }
     ],
     "prompt_number": 13
    },
    {
     "cell_type": "code",
     "collapsed": false,
     "input": [
      "db.collection_names()"
     ],
     "language": "python",
     "metadata": {},
     "outputs": [
      {
       "metadata": {},
       "output_type": "pyout",
       "prompt_number": 14,
       "text": [
        "[u'system.indexes', u'things']"
       ]
      }
     ],
     "prompt_number": 14
    },
    {
     "cell_type": "markdown",
     "metadata": {},
     "source": [
      "We can use the database object's `dropCollection` method to drop the collection and its indexes."
     ]
    },
    {
     "cell_type": "code",
     "collapsed": false,
     "input": [
      "db.drop_collection('things')\n",
      "db.collection_names()"
     ],
     "language": "python",
     "metadata": {},
     "outputs": [
      {
       "metadata": {},
       "output_type": "pyout",
       "prompt_number": 15,
       "text": [
        "[u'system.indexes']"
       ]
      }
     ],
     "prompt_number": 15
    },
    {
     "cell_type": "markdown",
     "metadata": {},
     "source": [
      "We can use the connection object's `drop_database()` command to drop a database."
     ]
    },
    {
     "cell_type": "code",
     "collapsed": false,
     "input": [
      "conn.drop_database(\"test\")\n",
      "conn.database_names()"
     ],
     "language": "python",
     "metadata": {},
     "outputs": [
      {
       "metadata": {},
       "output_type": "pyout",
       "prompt_number": 16,
       "text": [
        "[u'results',\n",
        " u'mongoenginetest',\n",
        " u'mongomallard-test',\n",
        " u'local',\n",
        " u'training',\n",
        " u'messages',\n",
        " u'demo',\n",
        " u'casbah_gridfs_test',\n",
        " u'mongoenginetest2',\n",
        " u'mongoScalaTest',\n",
        " u'tumblelog',\n",
        " u'DBPortTest1',\n",
        " u'MongoScala',\n",
        " u'text',\n",
        " u'twitter',\n",
        " u'my_tumble_log',\n",
        " u'mongoenginetest3',\n",
        " u'unittests',\n",
        " u'casbahTest',\n",
        " u'mongoenginetest4',\n",
        " u'tutorial',\n",
        " u'test_files',\n",
        " u'scala-tumblelog',\n",
        " u'config',\n",
        " u'DBPortTest2',\n",
        " u'casbah_test',\n",
        " u'casbahIntegration',\n",
        " u'admin',\n",
        " u'celery_broker']"
       ]
      }
     ],
     "prompt_number": 16
    },
    {
     "cell_type": "markdown",
     "metadata": {},
     "source": [
      "# Exercises\n",
      "\n",
      "1. Using the training.scores collection set a 'grade' attribute. For example, scores greater than or equal to 90 get an 'A'.\n",
      "2. You're being nice so you decide to add 10 points to every score less than 60. How would you do that?\n",
      "3. Remove all scores below 80."
     ]
    }
   ],
   "metadata": {}
  }
 ]
}